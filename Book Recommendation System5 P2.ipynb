{
 "cells": [
  {
   "cell_type": "code",
   "execution_count": 1,
   "id": "5fbe328b-0726-4f93-89d4-e287c5d2222c",
   "metadata": {},
   "outputs": [],
   "source": [
    "import warnings\n",
    "warnings.filterwarnings('ignore')\n",
    "\n",
    "import pandas as pd\n",
    "import numpy as np\n",
    "import matplotlib.pyplot as plt\n",
    "import seaborn as sns\n",
    "from sklearn.feature_extraction.text import TfidfVectorizer\n",
    "from sklearn.metrics.pairwise import linear_kernel\n",
    "\n",
    "#for collaborative filtering\n",
    "import os\n",
    "import math\n",
    "import random\n",
    "\n",
    "from surprise import Reader, Dataset\n",
    "from surprise import NormalPredictor, KNNBasic\n",
    "from surprise.model_selection import cross_validate\n",
    "from surprise import accuracy\n",
    "from surprise.dump import dump\n",
    "from surprise.dump import load\n",
    "from surprise import SVD, SVDpp\n",
    "from surprise.model_selection import train_test_split\n",
    "from surprise.model_selection import GridSearchCV"
   ]
  },
  {
   "cell_type": "code",
   "execution_count": 2,
   "id": "6bf2b0f0-5c3d-4637-ad99-c5ab9ae9697d",
   "metadata": {},
   "outputs": [],
   "source": [
    "pd.options.display.float_format = '{:.2f}'.format\n",
    "r = pd.read_csv('Downloads/ratings (1).csv')\n",
    "b = pd.read_csv('Downloads/books_cleaned.csv')"
   ]
  },
  {
   "cell_type": "code",
   "execution_count": 3,
   "id": "725f16cd-080b-47cd-bf49-ea4ed5324528",
   "metadata": {},
   "outputs": [],
   "source": [
    "def simple_recommender(books, n=5):\n",
    "    v = books['ratings_count']\n",
    "    m = books['ratings_count'].quantile(0.95)\n",
    "    R = books['average_rating']\n",
    "    C = books['average_rating'].median()\n",
    "    score = (v/(v+m) * R) + (m/(m+v) * C)   \n",
    "    books['score'] = score\n",
    "    \n",
    "    qualified  = books.sort_values('score', ascending=False)\n",
    "    return qualified[['book_id', 'title', 'authors', 'average_rating', 'ratings_count','score']].head(n)"
   ]
  },
  {
   "cell_type": "code",
   "execution_count": 4,
   "id": "f6b64e3a-c3fd-4277-9e65-d1d52ab46463",
   "metadata": {},
   "outputs": [
    {
     "data": {
      "text/html": [
       "<div>\n",
       "<style scoped>\n",
       "    .dataframe tbody tr th:only-of-type {\n",
       "        vertical-align: middle;\n",
       "    }\n",
       "\n",
       "    .dataframe tbody tr th {\n",
       "        vertical-align: top;\n",
       "    }\n",
       "\n",
       "    .dataframe thead th {\n",
       "        text-align: right;\n",
       "    }\n",
       "</style>\n",
       "<table border=\"1\" class=\"dataframe\">\n",
       "  <thead>\n",
       "    <tr style=\"text-align: right;\">\n",
       "      <th></th>\n",
       "      <th>book_id</th>\n",
       "      <th>title</th>\n",
       "      <th>authors</th>\n",
       "      <th>average_rating</th>\n",
       "      <th>ratings_count</th>\n",
       "      <th>score</th>\n",
       "    </tr>\n",
       "  </thead>\n",
       "  <tbody>\n",
       "    <tr>\n",
       "      <th>21</th>\n",
       "      <td>25</td>\n",
       "      <td>Harry Potter and the Deathly Hallows (Harry Po...</td>\n",
       "      <td>J.K. Rowling</td>\n",
       "      <td>4.61</td>\n",
       "      <td>1746574</td>\n",
       "      <td>4.56</td>\n",
       "    </tr>\n",
       "    <tr>\n",
       "      <th>23</th>\n",
       "      <td>27</td>\n",
       "      <td>Harry Potter and the Half-Blood Prince (Harry ...</td>\n",
       "      <td>J.K. Rowling</td>\n",
       "      <td>4.54</td>\n",
       "      <td>1678823</td>\n",
       "      <td>4.49</td>\n",
       "    </tr>\n",
       "    <tr>\n",
       "      <th>15</th>\n",
       "      <td>18</td>\n",
       "      <td>Harry Potter and the Prisoner of Azkaban (Harr...</td>\n",
       "      <td>J.K. Rowling</td>\n",
       "      <td>4.53</td>\n",
       "      <td>1832823</td>\n",
       "      <td>4.49</td>\n",
       "    </tr>\n",
       "    <tr>\n",
       "      <th>20</th>\n",
       "      <td>24</td>\n",
       "      <td>Harry Potter and the Goblet of Fire (Harry Pot...</td>\n",
       "      <td>J.K. Rowling</td>\n",
       "      <td>4.53</td>\n",
       "      <td>1753043</td>\n",
       "      <td>4.48</td>\n",
       "    </tr>\n",
       "    <tr>\n",
       "      <th>1</th>\n",
       "      <td>2</td>\n",
       "      <td>Harry Potter and the Sorcerer's Stone (Harry P...</td>\n",
       "      <td>J.K. Rowling</td>\n",
       "      <td>4.44</td>\n",
       "      <td>4602479</td>\n",
       "      <td>4.43</td>\n",
       "    </tr>\n",
       "  </tbody>\n",
       "</table>\n",
       "</div>"
      ],
      "text/plain": [
       "    book_id                                              title       authors  \\\n",
       "21       25  Harry Potter and the Deathly Hallows (Harry Po...  J.K. Rowling   \n",
       "23       27  Harry Potter and the Half-Blood Prince (Harry ...  J.K. Rowling   \n",
       "15       18  Harry Potter and the Prisoner of Azkaban (Harr...  J.K. Rowling   \n",
       "20       24  Harry Potter and the Goblet of Fire (Harry Pot...  J.K. Rowling   \n",
       "1         2  Harry Potter and the Sorcerer's Stone (Harry P...  J.K. Rowling   \n",
       "\n",
       "    average_rating  ratings_count  score  \n",
       "21            4.61        1746574   4.56  \n",
       "23            4.54        1678823   4.49  \n",
       "15            4.53        1832823   4.49  \n",
       "20            4.53        1753043   4.48  \n",
       "1             4.44        4602479   4.43  "
      ]
     },
     "execution_count": 4,
     "metadata": {},
     "output_type": "execute_result"
    }
   ],
   "source": [
    "simple_recommender(b)"
   ]
  },
  {
   "cell_type": "code",
   "execution_count": 5,
   "id": "26b28d78-fd55-478f-a70d-684585c4f865",
   "metadata": {},
   "outputs": [],
   "source": [
    "def content(books):\n",
    "    books['content'] = (pd.Series(books[['authors', 'title', 'genres', 'description']]\n",
    "                                  .fillna('')\n",
    "                                  .values.tolist()\n",
    "                                  ).str.join(' '))\n",
    "    tf_content = TfidfVectorizer(analyzer='word', ngram_range=(1, 2), min_df=0.0, stop_words='english')\n",
    "    tfidf_matrix = tf_content.fit_transform(books['content'])\n",
    "    cosine = linear_kernel(tfidf_matrix, tfidf_matrix)\n",
    "    index = pd.Series(books.index, index=books['title'])\n",
    "    return cosine, index"
   ]
  },
  {
   "cell_type": "code",
   "execution_count": 6,
   "id": "36d1afad-8944-4aa4-9209-c6c767598e99",
   "metadata": {},
   "outputs": [],
   "source": [
    "def content_recommendation(books, title, n=5):\n",
    "    cosine_sim, indices = content(books)\n",
    "    idx = indices[title]\n",
    "    sim_scores = list(enumerate(cosine_sim[idx]))\n",
    "    sim_scores = sorted(sim_scores, key=lambda x: x[1], reverse=True)\n",
    "    sim_scores = sim_scores[1:n + 1]\n",
    "    book_indices = [i[0] for i in sim_scores]\n",
    "    return books[['book_id', 'title', 'authors', 'average_rating', 'ratings_count']].iloc[book_indices]"
   ]
  },
  {
   "cell_type": "code",
   "execution_count": 7,
   "id": "cf64594c-51bc-4a25-93f7-d6cd5ecaf063",
   "metadata": {},
   "outputs": [
    {
     "data": {
      "text/html": [
       "<div>\n",
       "<style scoped>\n",
       "    .dataframe tbody tr th:only-of-type {\n",
       "        vertical-align: middle;\n",
       "    }\n",
       "\n",
       "    .dataframe tbody tr th {\n",
       "        vertical-align: top;\n",
       "    }\n",
       "\n",
       "    .dataframe thead th {\n",
       "        text-align: right;\n",
       "    }\n",
       "</style>\n",
       "<table border=\"1\" class=\"dataframe\">\n",
       "  <thead>\n",
       "    <tr style=\"text-align: right;\">\n",
       "      <th></th>\n",
       "      <th>book_id</th>\n",
       "      <th>title</th>\n",
       "      <th>authors</th>\n",
       "      <th>average_rating</th>\n",
       "      <th>ratings_count</th>\n",
       "    </tr>\n",
       "  </thead>\n",
       "  <tbody>\n",
       "    <tr>\n",
       "      <th>795</th>\n",
       "      <td>846</td>\n",
       "      <td>Animal Farm / 1984</td>\n",
       "      <td>George Orwell</td>\n",
       "      <td>4.26</td>\n",
       "      <td>116197</td>\n",
       "    </tr>\n",
       "    <tr>\n",
       "      <th>2048</th>\n",
       "      <td>2187</td>\n",
       "      <td>We</td>\n",
       "      <td>Yevgeny Zamyatin</td>\n",
       "      <td>3.95</td>\n",
       "      <td>40020</td>\n",
       "    </tr>\n",
       "    <tr>\n",
       "      <th>3670</th>\n",
       "      <td>4004</td>\n",
       "      <td>Homage to Catalonia</td>\n",
       "      <td>George Orwell</td>\n",
       "      <td>4.14</td>\n",
       "      <td>22227</td>\n",
       "    </tr>\n",
       "    <tr>\n",
       "      <th>6857</th>\n",
       "      <td>8056</td>\n",
       "      <td>1Q84 #1-2 (1Q84, #1-2)</td>\n",
       "      <td>Haruki Murakami</td>\n",
       "      <td>4.07</td>\n",
       "      <td>8342</td>\n",
       "    </tr>\n",
       "    <tr>\n",
       "      <th>4915</th>\n",
       "      <td>5510</td>\n",
       "      <td>The Far Side Gallery</td>\n",
       "      <td>Gary Larson</td>\n",
       "      <td>4.42</td>\n",
       "      <td>20022</td>\n",
       "    </tr>\n",
       "  </tbody>\n",
       "</table>\n",
       "</div>"
      ],
      "text/plain": [
       "      book_id                   title           authors  average_rating  \\\n",
       "795       846      Animal Farm / 1984     George Orwell            4.26   \n",
       "2048     2187                      We  Yevgeny Zamyatin            3.95   \n",
       "3670     4004     Homage to Catalonia     George Orwell            4.14   \n",
       "6857     8056  1Q84 #1-2 (1Q84, #1-2)   Haruki Murakami            4.07   \n",
       "4915     5510    The Far Side Gallery       Gary Larson            4.42   \n",
       "\n",
       "      ratings_count  \n",
       "795          116197  \n",
       "2048          40020  \n",
       "3670          22227  \n",
       "6857           8342  \n",
       "4915          20022  "
      ]
     },
     "execution_count": 7,
     "metadata": {},
     "output_type": "execute_result"
    }
   ],
   "source": [
    "content_recommendation(b, '1984')"
   ]
  },
  {
   "cell_type": "code",
   "execution_count": 8,
   "id": "3de8348e-86d1-424d-bf49-e6d25ab3203a",
   "metadata": {},
   "outputs": [],
   "source": [
    "def improved_recommendation(books, title, n=5):\n",
    "    cosine_sim, indices = content(books)\n",
    "    idx = indices[title]\n",
    "    sim_scores = list(enumerate(cosine_sim[idx]))\n",
    "    sim_scores = sorted(sim_scores, key=lambda x: x[1], reverse=True)\n",
    "    sim_scores = sim_scores[1:21]\n",
    "    book_indices = [i[0] for i in sim_scores]\n",
    "    books2 = books.iloc[book_indices][['book_id', 'title', 'authors', 'average_rating', 'ratings_count']]\n",
    "    v = books2['ratings_count']\n",
    "    m = books2['ratings_count'].quantile(0.75) #here the minimum rating is quantile 75\n",
    "    R = books2['average_rating']\n",
    "    C = books2['average_rating'].median()\n",
    "    books2['new_score'] = (v/(v+m) * R) + (m/(m+v) * C)\n",
    "    high_rating = books2[books2['ratings_count'] >= m]\n",
    "    high_rating = high_rating.sort_values('new_score', ascending=False)\n",
    "    return high_rating[['book_id', 'title', 'authors', 'average_rating', 'ratings_count']].head(n)"
   ]
  },
  {
   "cell_type": "code",
   "execution_count": 21,
   "id": "5b1039af-c7d9-40c3-bed9-10590dc367ca",
   "metadata": {},
   "outputs": [
    {
     "data": {
      "text/html": [
       "<div>\n",
       "<style scoped>\n",
       "    .dataframe tbody tr th:only-of-type {\n",
       "        vertical-align: middle;\n",
       "    }\n",
       "\n",
       "    .dataframe tbody tr th {\n",
       "        vertical-align: top;\n",
       "    }\n",
       "\n",
       "    .dataframe thead th {\n",
       "        text-align: right;\n",
       "    }\n",
       "</style>\n",
       "<table border=\"1\" class=\"dataframe\">\n",
       "  <thead>\n",
       "    <tr style=\"text-align: right;\">\n",
       "      <th></th>\n",
       "      <th>book_id</th>\n",
       "      <th>title</th>\n",
       "      <th>authors</th>\n",
       "      <th>average_rating</th>\n",
       "      <th>ratings_count</th>\n",
       "    </tr>\n",
       "  </thead>\n",
       "  <tbody>\n",
       "    <tr>\n",
       "      <th>795</th>\n",
       "      <td>846</td>\n",
       "      <td>Animal Farm / 1984</td>\n",
       "      <td>George Orwell</td>\n",
       "      <td>4.26</td>\n",
       "      <td>116197</td>\n",
       "    </tr>\n",
       "    <tr>\n",
       "      <th>759</th>\n",
       "      <td>809</td>\n",
       "      <td>Brave New World / Brave New World Revisited</td>\n",
       "      <td>Aldous Huxley</td>\n",
       "      <td>4.16</td>\n",
       "      <td>108124</td>\n",
       "    </tr>\n",
       "    <tr>\n",
       "      <th>604</th>\n",
       "      <td>649</td>\n",
       "      <td>1Q84</td>\n",
       "      <td>Haruki Murakami</td>\n",
       "      <td>3.89</td>\n",
       "      <td>125195</td>\n",
       "    </tr>\n",
       "    <tr>\n",
       "      <th>8168</th>\n",
       "      <td>14</td>\n",
       "      <td>Animal Farm</td>\n",
       "      <td>George Orwell</td>\n",
       "      <td>3.87</td>\n",
       "      <td>1881700</td>\n",
       "    </tr>\n",
       "    <tr>\n",
       "      <th>265</th>\n",
       "      <td>293</td>\n",
       "      <td>Treasure Island</td>\n",
       "      <td>Robert Louis Stevenson</td>\n",
       "      <td>3.82</td>\n",
       "      <td>268012</td>\n",
       "    </tr>\n",
       "  </tbody>\n",
       "</table>\n",
       "</div>"
      ],
      "text/plain": [
       "      book_id                                        title  \\\n",
       "795       846                           Animal Farm / 1984   \n",
       "759       809  Brave New World / Brave New World Revisited   \n",
       "604       649                                         1Q84   \n",
       "8168       14                                  Animal Farm   \n",
       "265       293                              Treasure Island   \n",
       "\n",
       "                     authors  average_rating  ratings_count  \n",
       "795            George Orwell            4.26         116197  \n",
       "759            Aldous Huxley            4.16         108124  \n",
       "604          Haruki Murakami            3.89         125195  \n",
       "8168           George Orwell            3.87        1881700  \n",
       "265   Robert Louis Stevenson            3.82         268012  "
      ]
     },
     "execution_count": 21,
     "metadata": {},
     "output_type": "execute_result"
    }
   ],
   "source": [
    "improved_recommendation(b, '1984')"
   ]
  },
  {
   "cell_type": "code",
   "execution_count": 6,
   "id": "10f4a5ba-ff65-4e69-8b4c-882a3bf8b6fa",
   "metadata": {},
   "outputs": [],
   "source": [
    "# to have reproducible experiments\n",
    "my_seed = 0\n",
    "random.seed(my_seed)\n",
    "np.random.seed(my_seed)\n",
    "\n",
    "# load the full dataset\n",
    "reader = Reader(rating_scale=(1,5))\n",
    "data = Dataset.load_from_df(r, reader)\n",
    "\n",
    "# shuffle the ratings for unbiased result\n",
    "all_ratings = data.raw_ratings\n",
    "random.shuffle(all_ratings)\n",
    "\n",
    "# split data into train and test data with the ratio 70:30\n",
    "threshold = int(0.7 * len(all_ratings))\n",
    "train_ratings = all_ratings[:threshold]\n",
    "test_ratings = all_ratings[threshold:]"
   ]
  },
  {
   "cell_type": "code",
   "execution_count": 7,
   "id": "c3d59237-5791-49f5-b401-ab1822c12dd3",
   "metadata": {},
   "outputs": [],
   "source": [
    "# prepare train data\n",
    "data.raw_ratings = train_ratings\n",
    "\n",
    "# select algorithm\n",
    "npred = NormalPredictor()"
   ]
  },
  {
   "cell_type": "code",
   "execution_count": 34,
   "id": "45b0fc22-a3d7-4700-a840-269abe98ccca",
   "metadata": {},
   "outputs": [
    {
     "name": "stdout",
     "output_type": "stream",
     "text": [
      "Evaluating RMSE of algorithm NormalPredictor on 5 split(s).\n",
      "\n",
      "                  Fold 1  Fold 2  Fold 3  Fold 4  Fold 5  Mean    Std     \n",
      "RMSE (testset)    1.3239  1.3218  1.3236  1.3237  1.3250  1.3236  0.0010  \n",
      "Fit time          3.86    4.64    5.32    4.70    4.23    4.55    0.49    \n",
      "Test time         11.83   7.67    10.12   7.51    6.03    8.63    2.07    \n",
      "CPU times: total: 1min 7s\n",
      "Wall time: 2min 2s\n"
     ]
    }
   ],
   "source": [
    "%%time\n",
    "# cross validation for train data\n",
    "np_result = cross_validate(npred, data, measures=['RMSE'], cv=5, verbose=True, n_jobs=2)"
   ]
  },
  {
   "cell_type": "code",
   "execution_count": 37,
   "id": "6ec01923-3937-4c5c-a7a0-3d2a57878d28",
   "metadata": {},
   "outputs": [
    {
     "name": "stdout",
     "output_type": "stream",
     "text": [
      "Train RMSE:\n",
      "RMSE: 1.3228\n",
      "Test RMSE:\n",
      "RMSE: 1.3216\n",
      "CPU times: total: 54.1 s\n",
      "Wall time: 59.6 s\n"
     ]
    }
   ],
   "source": [
    "%%time\n",
    "# retrain whole train test\n",
    "trainset = data.build_full_trainset()\n",
    "npred.fit(trainset)\n",
    "\n",
    "# Compute RMSE on trainset (without fold)\n",
    "np_train_pred = npred.test(trainset.build_testset())\n",
    "print('Train RMSE:')\n",
    "train_rmse = accuracy.rmse(np_train_pred)\n",
    "\n",
    "# compute RMSE on testset\n",
    "testset = data.construct_testset(test_ratings)\n",
    "np_test_pred = npred.test(testset)\n",
    "print('Test RMSE:')\n",
    "test_rmse = accuracy.rmse(np_test_pred)"
   ]
  },
  {
   "cell_type": "code",
   "execution_count": 44,
   "id": "8e3f6996-3082-48c7-a279-e3c43178aec2",
   "metadata": {},
   "outputs": [],
   "source": [
    "# to dump the calculation result for future use\n",
    "dump('./dump_np', predictions=np_test_pred, algo=npred)\n",
    "# dump.dump('./dump_np', np_test_pred, npred)"
   ]
  },
  {
   "cell_type": "markdown",
   "id": "6346fa28-3943-4007-b0a6-aa2800b7ba00",
   "metadata": {},
   "source": [
    "KNNBasic"
   ]
  },
  {
   "cell_type": "code",
   "execution_count": 47,
   "id": "280c93d4-a2e8-47a6-9fbf-36f44ad70562",
   "metadata": {},
   "outputs": [],
   "source": [
    "# change data to trainset\n",
    "data.raw_ratings = train_ratings \n",
    "\n",
    "# select algorithm\n",
    "sim_options = {\"name\": \"cosine\",\n",
    "               \"user_based\": False}\n",
    "knn = KNNBasic(sim_options=sim_options)"
   ]
  },
  {
   "cell_type": "code",
   "execution_count": 48,
   "id": "a2e1109a-6562-4ac1-8e22-d850fedc2513",
   "metadata": {},
   "outputs": [
    {
     "name": "stdout",
     "output_type": "stream",
     "text": [
      "Computing the cosine similarity matrix...\n",
      "Done computing similarity matrix.\n",
      "Computing the cosine similarity matrix...\n",
      "Done computing similarity matrix.\n",
      "Computing the cosine similarity matrix...\n",
      "Done computing similarity matrix.\n",
      "Computing the cosine similarity matrix...\n",
      "Done computing similarity matrix.\n",
      "Computing the cosine similarity matrix...\n",
      "Done computing similarity matrix.\n",
      "Evaluating RMSE of algorithm KNNBasic on 5 split(s).\n",
      "\n",
      "                  Fold 1  Fold 2  Fold 3  Fold 4  Fold 5  Mean    Std     \n",
      "RMSE (testset)    0.8879  0.8878  0.8868  0.8883  0.8867  0.8875  0.0007  \n",
      "Fit time          54.99   56.11   59.11   57.08   55.66   56.59   1.43    \n",
      "Test time         85.69   98.25   83.80   115.84  76.59   92.03   13.80   \n",
      "CPU times: total: 9min 8s\n",
      "Wall time: 13min 19s\n"
     ]
    }
   ],
   "source": [
    "%%time\n",
    "# cross validation for train data\n",
    "knn_result = cross_validate(knn, data, measures=['RMSE'], cv=5, verbose=True, n_jobs = 1)"
   ]
  },
  {
   "cell_type": "code",
   "execution_count": 49,
   "id": "0b42c2e4-b642-4a07-8c38-cf6f12329f77",
   "metadata": {},
   "outputs": [
    {
     "name": "stdout",
     "output_type": "stream",
     "text": [
      "Computing the cosine similarity matrix...\n",
      "Done computing similarity matrix.\n",
      "Train RMSE:\n",
      "RMSE: 0.8001\n",
      "Test RMSE:\n",
      "RMSE: 0.8851\n",
      "CPU times: total: 9min 19s\n",
      "Wall time: 11min 31s\n"
     ]
    }
   ],
   "source": [
    "%%time\n",
    "\n",
    "# retrain whole train test\n",
    "trainset = data.build_full_trainset()\n",
    "knn.fit(trainset)\n",
    "\n",
    "# compute RMSE on trainset (without fold)\n",
    "knn_train_pred = knn.test(trainset.build_testset())\n",
    "print('Train RMSE:')\n",
    "train_rmse = accuracy.rmse(knn_train_pred)\n",
    "\n",
    "# compute RMSE on testset\n",
    "testset = data.construct_testset(test_ratings)\n",
    "knn_test_pred = knn.test(testset)\n",
    "print('Test RMSE:')\n",
    "test_rmse = accuracy.rmse(knn_test_pred)"
   ]
  },
  {
   "cell_type": "code",
   "execution_count": 50,
   "id": "7598bcfb-3fc4-42bf-adbe-e55410bb5de5",
   "metadata": {},
   "outputs": [],
   "source": [
    "# to dump the calculation result for future use\n",
    "dump('./dump_knn', knn_test_pred, knn)"
   ]
  },
  {
   "cell_type": "markdown",
   "id": "fad7b34d-a41f-4382-b663-9ed8972f07d4",
   "metadata": {},
   "source": [
    "SVD"
   ]
  },
  {
   "cell_type": "code",
   "execution_count": 10,
   "id": "5069995f-5e8f-45ce-b931-0beb768ec807",
   "metadata": {},
   "outputs": [],
   "source": [
    "# change data to trainset\n",
    "data.raw_ratings = train_ratings\n",
    "\n",
    "# select algorithm\n",
    "svd = SVD(random_state=0)"
   ]
  },
  {
   "cell_type": "code",
   "execution_count": 11,
   "id": "b167806f-be18-421a-917c-fdfb7c6c6845",
   "metadata": {},
   "outputs": [
    {
     "name": "stdout",
     "output_type": "stream",
     "text": [
      "Evaluating RMSE of algorithm SVD on 5 split(s).\n",
      "\n",
      "                  Fold 1  Fold 2  Fold 3  Fold 4  Fold 5  Mean    Std     \n",
      "RMSE (testset)    0.8503  0.8500  0.8484  0.8503  0.8510  0.8500  0.0009  \n",
      "Fit time          41.55   41.77   39.61   39.88   32.86   39.13   3.25    \n",
      "Test time         14.16   13.58   9.45    10.65   7.86    11.14   2.40    \n",
      "CPU times: total: 1min 22s\n",
      "Wall time: 3min 31s\n"
     ]
    }
   ],
   "source": [
    "%%time\n",
    "# cross validation for train data\n",
    "svd_result = cross_validate(svd, data, measures=[\"RMSE\"], cv=5, verbose=True, n_jobs = 2)"
   ]
  },
  {
   "cell_type": "code",
   "execution_count": 12,
   "id": "460cfaf9-c98a-4bf5-91c5-67ab15863f69",
   "metadata": {},
   "outputs": [
    {
     "name": "stdout",
     "output_type": "stream",
     "text": [
      "Train RMSE:\n",
      "RMSE: 0.6441\n",
      "Test RMSE:\n",
      "RMSE: 0.8386\n",
      "CPU times: total: 2min 23s\n",
      "Wall time: 2min 37s\n"
     ]
    }
   ],
   "source": [
    "%%time\n",
    "\n",
    "# retrain whole train test\n",
    "trainset = data.build_full_trainset()\n",
    "svd.fit(trainset)\n",
    "\n",
    "# compute RMSE on trainset (without fold)\n",
    "svd_train_pred = svd.test(trainset.build_testset())\n",
    "print('Train RMSE:')\n",
    "train_rmse = accuracy.rmse(svd_train_pred)\n",
    "\n",
    "# compute RMSE on testset\n",
    "testset = data.construct_testset(test_ratings)\n",
    "svd_test_pred = svd.test(testset)\n",
    "print('Test RMSE:')\n",
    "test_rmse = accuracy.rmse(svd_test_pred)"
   ]
  },
  {
   "cell_type": "code",
   "execution_count": 14,
   "id": "6432128f-41c1-4afc-8aa1-4c99a5b7d2eb",
   "metadata": {},
   "outputs": [],
   "source": [
    "# to dump the calculation result for future use\n",
    "dump('./dump_svd', svd_test_pred, svd)"
   ]
  },
  {
   "cell_type": "markdown",
   "id": "0decbb52-5cae-41a5-ad91-030d8a331e83",
   "metadata": {},
   "source": [
    "SVD++"
   ]
  },
  {
   "cell_type": "code",
   "execution_count": 17,
   "id": "45946021-b747-4152-9d17-96837a1e3603",
   "metadata": {},
   "outputs": [],
   "source": [
    "# change data to trainset\n",
    "data.raw_ratings = train_ratings \n",
    "\n",
    "# select algorithm\n",
    "svdpp = SVDpp(random_state=0)"
   ]
  },
  {
   "cell_type": "code",
   "execution_count": 18,
   "id": "46560b37-b481-46a7-898f-6a86acdc98d5",
   "metadata": {},
   "outputs": [
    {
     "name": "stdout",
     "output_type": "stream",
     "text": [
      "Evaluating RMSE of algorithm SVDpp on 5 split(s).\n",
      "\n",
      "                  Fold 1  Fold 2  Fold 3  Fold 4  Fold 5  Mean    Std     \n",
      "RMSE (testset)    0.8322  0.8332  0.8326  0.8328  0.8326  0.8327  0.0003  \n",
      "Fit time          370.05  369.35  374.52  371.27  550.10  407.06  71.54   \n",
      "Test time         87.19   86.32   82.33   80.97   51.73   77.71   13.20   \n",
      "CPU times: total: 1min 11s\n",
      "Wall time: 25min 56s\n"
     ]
    }
   ],
   "source": [
    "%%time\n",
    "svdpp_result = cross_validate(svdpp, data, measures=[\"RMSE\"], cv=5, verbose=True, n_jobs = 2)"
   ]
  },
  {
   "cell_type": "code",
   "execution_count": 19,
   "id": "5be0e163-4f8d-43ea-8701-b1167d76baca",
   "metadata": {},
   "outputs": [
    {
     "name": "stdout",
     "output_type": "stream",
     "text": [
      "Train RMSE:\n",
      "RMSE: 0.7085\n",
      "Test RMSE:\n",
      "RMSE: 0.8238\n",
      "CPU times: total: 15min 43s\n",
      "Wall time: 17min 40s\n"
     ]
    }
   ],
   "source": [
    "%%time\n",
    "# retrain whole train test\n",
    "trainset = data.build_full_trainset()\n",
    "svdpp.fit(trainset)\n",
    "\n",
    "# compute RMSE on trainset (without fold)\n",
    "svdpp_train_pred = svdpp.test(trainset.build_testset())\n",
    "print('Train RMSE:')\n",
    "train_rmse = accuracy.rmse(svdpp_train_pred)\n",
    "\n",
    "# compute RMSE on testset\n",
    "testset = data.construct_testset(test_ratings)\n",
    "svdpp_test_pred = svdpp.test(testset)\n",
    "print('Test RMSE:')\n",
    "test_rmse = accuracy.rmse(svdpp_test_pred)"
   ]
  },
  {
   "cell_type": "code",
   "execution_count": 20,
   "id": "7d72a8a8-95ba-4c5a-a159-54f96fe7ed82",
   "metadata": {},
   "outputs": [],
   "source": [
    "# uncomment this code to dump the calculation result for future use\n",
    "dump('./dump_svdpp', svdpp_test_pred, svdpp)"
   ]
  },
  {
   "cell_type": "code",
   "execution_count": 24,
   "id": "085b6b45-ce38-467e-9b50-82b98a7e89e6",
   "metadata": {},
   "outputs": [],
   "source": [
    "# load the dump file\n",
    "np_test_pred, npred = load('./dump_np')\n",
    "knn_test_pred, knn = load('./dump_knn')\n",
    "svd_test_pred, svd = load('./dump_svd')\n",
    "svdpp_test_pred, svdpp = load('./dump_svdpp')"
   ]
  },
  {
   "cell_type": "code",
   "execution_count": 25,
   "id": "5ad93580-2283-4827-9b26-8c9ed1f9ead1",
   "metadata": {},
   "outputs": [],
   "source": [
    "# making the calculation result into dataframe\n",
    "df_np = pd.DataFrame(np_test_pred, columns=['uid', 'iid', 'rui', 'est', 'details'])\n",
    "df_knn = pd.DataFrame(knn_test_pred, columns=['uid', 'iid', 'rui', 'est', 'details'])\n",
    "df_svd = pd.DataFrame(svd_test_pred, columns=['uid', 'iid', 'rui', 'est', 'details'])  \n",
    "df_svdpp = pd.DataFrame(svdpp_test_pred, columns=['uid', 'iid', 'rui', 'est', 'details'])"
   ]
  },
  {
   "cell_type": "code",
   "execution_count": 65,
   "id": "56c391d8-e2a6-43a7-943e-a7a0143a0ccd",
   "metadata": {},
   "outputs": [
    {
     "data": {
      "image/png": "[encoded data removed]",
      "text/plain": [
       "<Figure size 1600x500 with 4 Axes>"
      ]
     },
     "metadata": {},
     "output_type": "display_data"
    }
   ],
   "source": [
    "# count the number of predictions for each rating value\n",
    "figure, (ax1, ax2, ax3, ax4) = plt.subplots(1, 4,  figsize=(16, 5), sharey=True, constrained_layout=True)\n",
    "df_np.est.plot(kind='hist', title='NP', ax=ax1, color='#45818E')\n",
    "df_knn.est.plot(kind='hist', title='KNN', ax=ax2, color='#9D5353')\n",
    "df_svd.est.plot(kind='hist', title='SVD', ax=ax3, color='#92BA92')\n",
    "df_svdpp.est.plot(kind='hist', title='SVDpp', ax=ax4, color='#F3936B')\n",
    "# Set y-tick labels with K formatting\n",
    "ax1.set_yticklabels(['{:,.0f}'.format(x) + 'K' for x in ax1.get_yticks()])\n",
    "ax2.set_yticklabels(['{:,.0f}'.format(x) + 'K' for x in ax2.get_yticks()])\n",
    "ax3.set_yticklabels(['{:,.0f}'.format(x) + 'K' for x in ax3.get_yticks()])\n",
    "ax4.set_yticklabels(['{:,.0f}'.format(x) + 'K' for x in ax4.get_yticks()])\n",
    "plt.suptitle('Prediction Distribution in Each Model', weight='bold', fontsize=20)\n",
    "plt.show()"
   ]
  },
  {
   "cell_type": "code",
   "execution_count": 64,
   "id": "d28d01d9-2dcb-4a46-8340-618eae4c47e4",
   "metadata": {},
   "outputs": [
    {
     "data": {
      "image/png": "[encoded data removed]",
      "text/plain": [
       "<Figure size 800x600 with 1 Axes>"
      ]
     },
     "metadata": {},
     "output_type": "display_data"
    }
   ],
   "source": [
    "fig, ax = plt.subplots(figsize=(8,6))\n",
    "sns.kdeplot(df_np['est'], fill=False, color='#45818E', label = 'NP', ax=ax)\n",
    "sns.kdeplot(df_knn['est'], fill=False, color='#9D5353', label = 'KNN', ax=ax)\n",
    "sns.kdeplot(df_svd['est'], fill=False, color='#92BA92', label = 'SVD', ax=ax)\n",
    "sns.kdeplot(df_svdpp['est'], fill=False, color='#F3936B', label = 'SVDpp', ax=ax)\n",
    "ax.legend()\n",
    "plt.xlabel('Rating prediction')\n",
    "plt.ylabel('Density')\n",
    "plt.title('Comparison of rating estimation in each model', weight='bold', fontsize=14)\n",
    "plt.show()"
   ]
  },
  {
   "cell_type": "markdown",
   "id": "c29ba105-60c9-4d04-9cdc-99f6491bc67d",
   "metadata": {},
   "source": [
    "Making recommendation"
   ]
  },
  {
   "cell_type": "code",
   "execution_count": 28,
   "id": "54e81336-eff4-4349-ac4b-aea99131f0e6",
   "metadata": {},
   "outputs": [],
   "source": [
    "def book_read(user_id):\n",
    "    '''Take user_id and return list of book that user has read'''\n",
    "    books_list = list(b['book_id'])\n",
    "    book_read_list = list(r['book_id'][r['user_id'] == user_id])\n",
    "    return books_list, book_read_list"
   ]
  },
  {
   "cell_type": "code",
   "execution_count": 29,
   "id": "d9498219-4dab-4201-b9a6-a650bc9e97af",
   "metadata": {},
   "outputs": [
    {
     "data": {
      "text/plain": [
       "<surprise.prediction_algorithms.random_pred.NormalPredictor at 0x1edc3a5e650>"
      ]
     },
     "execution_count": 29,
     "metadata": {},
     "output_type": "execute_result"
    }
   ],
   "source": [
    "data.raw_ratings = all_ratings\n",
    "npred.fit(data.build_full_trainset())"
   ]
  },
  {
   "cell_type": "code",
   "execution_count": 30,
   "id": "f5bc5081-84c0-4db9-a5dc-799fdcabc4ef",
   "metadata": {},
   "outputs": [],
   "source": [
    "def get_recommendation_npred(user_id, n=5):\n",
    "    '''Give n recommendation to user_id'''\n",
    "    \n",
    "    all_books, user_books =  book_read(user_id)\n",
    "    next_books = [book for book in all_books if book not in user_books]\n",
    "    \n",
    "    if n <= len(next_books):\n",
    "        ratings = []\n",
    "        for book in next_books:\n",
    "            est = npred.predict(user_id, book).est\n",
    "            ratings.append((book, est))\n",
    "        ratings = sorted(ratings, key=lambda x: x[1], reverse=True)\n",
    "        book_ids = [id for id, rate in ratings[:n]]\n",
    "        return b[b.book_id.isin(book_ids)][['book_id', 'title', 'authors', 'average_rating', 'ratings_count']]\n",
    "    else:\n",
    "        print('Please reduce your recommendation request')\n",
    "        return"
   ]
  },
  {
   "cell_type": "code",
   "execution_count": 31,
   "id": "10e41cfc-a799-40d2-ac8e-a0076a8ceae0",
   "metadata": {},
   "outputs": [
    {
     "data": {
      "text/html": [
       "<div>\n",
       "<style scoped>\n",
       "    .dataframe tbody tr th:only-of-type {\n",
       "        vertical-align: middle;\n",
       "    }\n",
       "\n",
       "    .dataframe tbody tr th {\n",
       "        vertical-align: top;\n",
       "    }\n",
       "\n",
       "    .dataframe thead th {\n",
       "        text-align: right;\n",
       "    }\n",
       "</style>\n",
       "<table border=\"1\" class=\"dataframe\">\n",
       "  <thead>\n",
       "    <tr style=\"text-align: right;\">\n",
       "      <th></th>\n",
       "      <th>book_id</th>\n",
       "      <th>title</th>\n",
       "      <th>authors</th>\n",
       "      <th>average_rating</th>\n",
       "      <th>ratings_count</th>\n",
       "    </tr>\n",
       "  </thead>\n",
       "  <tbody>\n",
       "    <tr>\n",
       "      <th>21</th>\n",
       "      <td>25</td>\n",
       "      <td>Harry Potter and the Deathly Hallows (Harry Po...</td>\n",
       "      <td>J.K. Rowling</td>\n",
       "      <td>4.61</td>\n",
       "      <td>1746574</td>\n",
       "    </tr>\n",
       "    <tr>\n",
       "      <th>26</th>\n",
       "      <td>30</td>\n",
       "      <td>Gone Girl</td>\n",
       "      <td>Gillian Flynn</td>\n",
       "      <td>4.03</td>\n",
       "      <td>512475</td>\n",
       "    </tr>\n",
       "    <tr>\n",
       "      <th>42</th>\n",
       "      <td>49</td>\n",
       "      <td>New Moon (Twilight, #2)</td>\n",
       "      <td>Stephenie Meyer</td>\n",
       "      <td>3.52</td>\n",
       "      <td>1149630</td>\n",
       "    </tr>\n",
       "    <tr>\n",
       "      <th>80</th>\n",
       "      <td>89</td>\n",
       "      <td>The Princess Bride</td>\n",
       "      <td>William Goldman</td>\n",
       "      <td>4.25</td>\n",
       "      <td>628637</td>\n",
       "    </tr>\n",
       "    <tr>\n",
       "      <th>81</th>\n",
       "      <td>90</td>\n",
       "      <td>The Outsiders</td>\n",
       "      <td>S.E. Hinton</td>\n",
       "      <td>4.06</td>\n",
       "      <td>659248</td>\n",
       "    </tr>\n",
       "  </tbody>\n",
       "</table>\n",
       "</div>"
      ],
      "text/plain": [
       "    book_id                                              title  \\\n",
       "21       25  Harry Potter and the Deathly Hallows (Harry Po...   \n",
       "26       30                                          Gone Girl   \n",
       "42       49                            New Moon (Twilight, #2)   \n",
       "80       89                                The Princess Bride    \n",
       "81       90                                      The Outsiders   \n",
       "\n",
       "            authors  average_rating  ratings_count  \n",
       "21     J.K. Rowling            4.61        1746574  \n",
       "26    Gillian Flynn            4.03         512475  \n",
       "42  Stephenie Meyer            3.52        1149630  \n",
       "80  William Goldman            4.25         628637  \n",
       "81      S.E. Hinton            4.06         659248  "
      ]
     },
     "execution_count": 31,
     "metadata": {},
     "output_type": "execute_result"
    }
   ],
   "source": [
    "get_recommendation_npred(12874, 5)"
   ]
  },
  {
   "cell_type": "markdown",
   "id": "6d2e4ff9-1dfa-4f7d-b989-658d69ba995b",
   "metadata": {},
   "source": [
    "Using KNN Model"
   ]
  },
  {
   "cell_type": "code",
   "execution_count": 32,
   "id": "1c02115b-1bae-4df9-aa26-1b6fede957f8",
   "metadata": {},
   "outputs": [
    {
     "name": "stdout",
     "output_type": "stream",
     "text": [
      "Computing the cosine similarity matrix...\n",
      "Done computing similarity matrix.\n"
     ]
    },
    {
     "data": {
      "text/plain": [
       "<surprise.prediction_algorithms.knns.KNNBasic at 0x1edc7affe50>"
      ]
     },
     "execution_count": 32,
     "metadata": {},
     "output_type": "execute_result"
    }
   ],
   "source": [
    "data.raw_ratings = all_ratings\n",
    "knn.fit(data.build_full_trainset())"
   ]
  },
  {
   "cell_type": "code",
   "execution_count": 33,
   "id": "1ba995ec-dc28-45e7-93b2-3b66a8eb07db",
   "metadata": {},
   "outputs": [],
   "source": [
    "def get_recommendation_knn(user_id, n=5):\n",
    "    '''Give n recommendation to user_id'''\n",
    "    \n",
    "    all_books, user_books =  book_read(user_id)\n",
    "    next_books = [book for book in all_books if book not in user_books]\n",
    "    \n",
    "    if n <= len(next_books):\n",
    "        ratings = []\n",
    "        for book in next_books:\n",
    "            est = knn.predict(user_id, book).est\n",
    "            ratings.append((book, est))\n",
    "        ratings = sorted(ratings, key=lambda x: x[1], reverse=True)\n",
    "        book_ids = [id for id, rate in ratings[:n]]\n",
    "        return b[b.book_id.isin(book_ids)][['book_id', 'title', 'authors', 'average_rating', 'ratings_count']]\n",
    "    else:\n",
    "        print('Please reduce your recommendation request')\n",
    "        return"
   ]
  },
  {
   "cell_type": "code",
   "execution_count": 34,
   "id": "e7af701d-fb9e-48e5-809c-b175001250f5",
   "metadata": {},
   "outputs": [
    {
     "data": {
      "text/html": [
       "<div>\n",
       "<style scoped>\n",
       "    .dataframe tbody tr th:only-of-type {\n",
       "        vertical-align: middle;\n",
       "    }\n",
       "\n",
       "    .dataframe tbody tr th {\n",
       "        vertical-align: top;\n",
       "    }\n",
       "\n",
       "    .dataframe thead th {\n",
       "        text-align: right;\n",
       "    }\n",
       "</style>\n",
       "<table border=\"1\" class=\"dataframe\">\n",
       "  <thead>\n",
       "    <tr style=\"text-align: right;\">\n",
       "      <th></th>\n",
       "      <th>book_id</th>\n",
       "      <th>title</th>\n",
       "      <th>authors</th>\n",
       "      <th>average_rating</th>\n",
       "      <th>ratings_count</th>\n",
       "    </tr>\n",
       "  </thead>\n",
       "  <tbody>\n",
       "    <tr>\n",
       "      <th>27</th>\n",
       "      <td>31</td>\n",
       "      <td>The Help</td>\n",
       "      <td>Kathryn Stockett</td>\n",
       "      <td>4.45</td>\n",
       "      <td>1531753</td>\n",
       "    </tr>\n",
       "    <tr>\n",
       "      <th>89</th>\n",
       "      <td>98</td>\n",
       "      <td>The Girl Who Played with Fire (Millennium, #2)</td>\n",
       "      <td>Stieg Larsson</td>\n",
       "      <td>4.22</td>\n",
       "      <td>563994</td>\n",
       "    </tr>\n",
       "    <tr>\n",
       "      <th>103</th>\n",
       "      <td>114</td>\n",
       "      <td>Tuesdays with Morrie</td>\n",
       "      <td>Mitch Albom</td>\n",
       "      <td>4.06</td>\n",
       "      <td>556518</td>\n",
       "    </tr>\n",
       "    <tr>\n",
       "      <th>118</th>\n",
       "      <td>132</td>\n",
       "      <td>The Five People You Meet in Heaven</td>\n",
       "      <td>Mitch Albom</td>\n",
       "      <td>3.90</td>\n",
       "      <td>449501</td>\n",
       "    </tr>\n",
       "    <tr>\n",
       "      <th>126</th>\n",
       "      <td>140</td>\n",
       "      <td>The Girl Who Kicked the Hornet's Nest (Millenn...</td>\n",
       "      <td>Stieg Larsson</td>\n",
       "      <td>4.20</td>\n",
       "      <td>443951</td>\n",
       "    </tr>\n",
       "  </tbody>\n",
       "</table>\n",
       "</div>"
      ],
      "text/plain": [
       "     book_id                                              title  \\\n",
       "27        31                                           The Help   \n",
       "89        98     The Girl Who Played with Fire (Millennium, #2)   \n",
       "103      114                               Tuesdays with Morrie   \n",
       "118      132                 The Five People You Meet in Heaven   \n",
       "126      140  The Girl Who Kicked the Hornet's Nest (Millenn...   \n",
       "\n",
       "              authors  average_rating  ratings_count  \n",
       "27   Kathryn Stockett            4.45        1531753  \n",
       "89      Stieg Larsson            4.22         563994  \n",
       "103       Mitch Albom            4.06         556518  \n",
       "118       Mitch Albom            3.90         449501  \n",
       "126     Stieg Larsson            4.20         443951  "
      ]
     },
     "execution_count": 34,
     "metadata": {},
     "output_type": "execute_result"
    }
   ],
   "source": [
    "get_recommendation_knn(12874, 5)"
   ]
  },
  {
   "cell_type": "markdown",
   "id": "58e08438-9567-4be2-8b8f-30d65f39ee90",
   "metadata": {},
   "source": [
    "Using SVD"
   ]
  },
  {
   "cell_type": "code",
   "execution_count": 35,
   "id": "8214e31a-95f4-4c14-9e8c-7e8488765dd6",
   "metadata": {},
   "outputs": [
    {
     "name": "stdout",
     "output_type": "stream",
     "text": [
      "CPU times: total: 1min 39s\n",
      "Wall time: 1min 52s\n"
     ]
    },
    {
     "data": {
      "text/plain": [
       "<surprise.prediction_algorithms.matrix_factorization.SVD at 0x1ed68f1e290>"
      ]
     },
     "execution_count": 35,
     "metadata": {},
     "output_type": "execute_result"
    }
   ],
   "source": [
    "%%time\n",
    "# make recommendation on full dataset\n",
    "data.raw_ratings = all_ratings\n",
    "svd.fit(data.build_full_trainset())"
   ]
  },
  {
   "cell_type": "code",
   "execution_count": 36,
   "id": "50f4b62e-afdb-4a42-b085-191787c9becd",
   "metadata": {},
   "outputs": [],
   "source": [
    "def get_recommendation_svd(user_id, n=5):\n",
    "    '''Give n recommendation to user_id'''\n",
    "    \n",
    "    all_books, user_books =  book_read(user_id)\n",
    "    next_books = [book for book in all_books if book not in user_books]\n",
    "    \n",
    "    if n <= len(next_books):\n",
    "        ratings = []\n",
    "        for book in next_books:\n",
    "            est = svd.predict(user_id, book).est\n",
    "            ratings.append((book, est))\n",
    "        ratings = sorted(ratings, key=lambda x: x[1], reverse=True)\n",
    "        book_ids = [id for id, rate in ratings[:n]]\n",
    "        return b[b.book_id.isin(book_ids)][['book_id', 'title', 'authors', 'average_rating', 'ratings_count']]\n",
    "    else:\n",
    "        print('Please reduce your recommendation request')\n",
    "        return"
   ]
  },
  {
   "cell_type": "code",
   "execution_count": 37,
   "id": "c2072e9f-0f35-4e8c-ad0c-2dc4664fd5c0",
   "metadata": {},
   "outputs": [
    {
     "data": {
      "text/html": [
       "<div>\n",
       "<style scoped>\n",
       "    .dataframe tbody tr th:only-of-type {\n",
       "        vertical-align: middle;\n",
       "    }\n",
       "\n",
       "    .dataframe tbody tr th {\n",
       "        vertical-align: top;\n",
       "    }\n",
       "\n",
       "    .dataframe thead th {\n",
       "        text-align: right;\n",
       "    }\n",
       "</style>\n",
       "<table border=\"1\" class=\"dataframe\">\n",
       "  <thead>\n",
       "    <tr style=\"text-align: right;\">\n",
       "      <th></th>\n",
       "      <th>book_id</th>\n",
       "      <th>title</th>\n",
       "      <th>authors</th>\n",
       "      <th>average_rating</th>\n",
       "      <th>ratings_count</th>\n",
       "    </tr>\n",
       "  </thead>\n",
       "  <tbody>\n",
       "    <tr>\n",
       "      <th>27</th>\n",
       "      <td>31</td>\n",
       "      <td>The Help</td>\n",
       "      <td>Kathryn Stockett</td>\n",
       "      <td>4.45</td>\n",
       "      <td>1531753</td>\n",
       "    </tr>\n",
       "    <tr>\n",
       "      <th>194</th>\n",
       "      <td>215</td>\n",
       "      <td>Ready Player One</td>\n",
       "      <td>Ernest Cline</td>\n",
       "      <td>4.31</td>\n",
       "      <td>349423</td>\n",
       "    </tr>\n",
       "    <tr>\n",
       "      <th>226</th>\n",
       "      <td>250</td>\n",
       "      <td>Wonder</td>\n",
       "      <td>R.J. Palacio</td>\n",
       "      <td>4.43</td>\n",
       "      <td>228538</td>\n",
       "    </tr>\n",
       "    <tr>\n",
       "      <th>390</th>\n",
       "      <td>425</td>\n",
       "      <td>Go Ask Alice</td>\n",
       "      <td>Beatrice Sparks</td>\n",
       "      <td>3.77</td>\n",
       "      <td>196677</td>\n",
       "    </tr>\n",
       "    <tr>\n",
       "      <th>1698</th>\n",
       "      <td>1808</td>\n",
       "      <td>Morning Star (Red Rising, #3)</td>\n",
       "      <td>Pierce Brown</td>\n",
       "      <td>4.50</td>\n",
       "      <td>47736</td>\n",
       "    </tr>\n",
       "  </tbody>\n",
       "</table>\n",
       "</div>"
      ],
      "text/plain": [
       "      book_id                          title           authors  \\\n",
       "27         31                       The Help  Kathryn Stockett   \n",
       "194       215               Ready Player One      Ernest Cline   \n",
       "226       250                         Wonder      R.J. Palacio   \n",
       "390       425                   Go Ask Alice   Beatrice Sparks   \n",
       "1698     1808  Morning Star (Red Rising, #3)      Pierce Brown   \n",
       "\n",
       "      average_rating  ratings_count  \n",
       "27              4.45        1531753  \n",
       "194             4.31         349423  \n",
       "226             4.43         228538  \n",
       "390             3.77         196677  \n",
       "1698            4.50          47736  "
      ]
     },
     "execution_count": 37,
     "metadata": {},
     "output_type": "execute_result"
    }
   ],
   "source": [
    "get_recommendation_svd(12874, 5)"
   ]
  },
  {
   "cell_type": "markdown",
   "id": "b63ca9d3-c455-4ad9-ae4b-6072e6e300eb",
   "metadata": {},
   "source": [
    "Using SVD++"
   ]
  },
  {
   "cell_type": "code",
   "execution_count": 38,
   "id": "0b41ce81-8b4e-44dd-ae34-e7ac73e83a3c",
   "metadata": {},
   "outputs": [
    {
     "name": "stdout",
     "output_type": "stream",
     "text": [
      "CPU times: total: 15min 21s\n",
      "Wall time: 17min 56s\n"
     ]
    },
    {
     "data": {
      "text/plain": [
       "<surprise.prediction_algorithms.matrix_factorization.SVDpp at 0x1ecace5b650>"
      ]
     },
     "execution_count": 38,
     "metadata": {},
     "output_type": "execute_result"
    }
   ],
   "source": [
    "%%time\n",
    "\n",
    "# make recommendation on full dataset\n",
    "data.raw_ratings = all_ratings\n",
    "svdpp.fit(data.build_full_trainset()) "
   ]
  },
  {
   "cell_type": "code",
   "execution_count": 39,
   "id": "b500e6df-10e9-456c-b6fa-b2271032ad96",
   "metadata": {},
   "outputs": [],
   "source": [
    "def get_recommendation_svdpp(user_id, n=5):\n",
    "    '''Give n recommendation to user_id'''\n",
    "    \n",
    "    all_books, user_books =  book_read(user_id)\n",
    "    next_books = [book for book in all_books if book not in user_books]\n",
    "    \n",
    "    if n <= len(next_books):\n",
    "        ratings = []\n",
    "        for book in next_books:\n",
    "            est = svdpp.predict(user_id, book).est\n",
    "            ratings.append((book, est))\n",
    "        ratings = sorted(ratings, key=lambda x: x[1], reverse=True)\n",
    "        book_ids = [id for id, rate in ratings[:n]]\n",
    "        return b[b.book_id.isin(book_ids)][['book_id', 'title', 'authors', 'average_rating', 'ratings_count']]\n",
    "    else:\n",
    "        print('Please reduce your recommendation request')\n",
    "        return"
   ]
  },
  {
   "cell_type": "code",
   "execution_count": 40,
   "id": "6bce6f3d-b928-4073-84dc-7c8b88b7330b",
   "metadata": {},
   "outputs": [
    {
     "data": {
      "text/html": [
       "<div>\n",
       "<style scoped>\n",
       "    .dataframe tbody tr th:only-of-type {\n",
       "        vertical-align: middle;\n",
       "    }\n",
       "\n",
       "    .dataframe tbody tr th {\n",
       "        vertical-align: top;\n",
       "    }\n",
       "\n",
       "    .dataframe thead th {\n",
       "        text-align: right;\n",
       "    }\n",
       "</style>\n",
       "<table border=\"1\" class=\"dataframe\">\n",
       "  <thead>\n",
       "    <tr style=\"text-align: right;\">\n",
       "      <th></th>\n",
       "      <th>book_id</th>\n",
       "      <th>title</th>\n",
       "      <th>authors</th>\n",
       "      <th>average_rating</th>\n",
       "      <th>ratings_count</th>\n",
       "    </tr>\n",
       "  </thead>\n",
       "  <tbody>\n",
       "    <tr>\n",
       "      <th>27</th>\n",
       "      <td>31</td>\n",
       "      <td>The Help</td>\n",
       "      <td>Kathryn Stockett</td>\n",
       "      <td>4.45</td>\n",
       "      <td>1531753</td>\n",
       "    </tr>\n",
       "    <tr>\n",
       "      <th>597</th>\n",
       "      <td>642</td>\n",
       "      <td>World Without End (The Kingsbridge Series, #2)</td>\n",
       "      <td>Ken Follett</td>\n",
       "      <td>4.23</td>\n",
       "      <td>128715</td>\n",
       "    </tr>\n",
       "    <tr>\n",
       "      <th>1243</th>\n",
       "      <td>1328</td>\n",
       "      <td>I Am Pilgrim (Pilgrim, #1)</td>\n",
       "      <td>Terry Hayes</td>\n",
       "      <td>4.23</td>\n",
       "      <td>49740</td>\n",
       "    </tr>\n",
       "    <tr>\n",
       "      <th>4310</th>\n",
       "      <td>4778</td>\n",
       "      <td>The Holy Bible: English Standard Version</td>\n",
       "      <td>Anonymous</td>\n",
       "      <td>4.66</td>\n",
       "      <td>17863</td>\n",
       "    </tr>\n",
       "    <tr>\n",
       "      <th>5302</th>\n",
       "      <td>5990</td>\n",
       "      <td>الطنطورية</td>\n",
       "      <td>Radwa Ashour</td>\n",
       "      <td>4.32</td>\n",
       "      <td>13931</td>\n",
       "    </tr>\n",
       "  </tbody>\n",
       "</table>\n",
       "</div>"
      ],
      "text/plain": [
       "      book_id                                           title  \\\n",
       "27         31                                        The Help   \n",
       "597       642  World Without End (The Kingsbridge Series, #2)   \n",
       "1243     1328                      I Am Pilgrim (Pilgrim, #1)   \n",
       "4310     4778        The Holy Bible: English Standard Version   \n",
       "5302     5990                                       الطنطورية   \n",
       "\n",
       "               authors  average_rating  ratings_count  \n",
       "27    Kathryn Stockett            4.45        1531753  \n",
       "597        Ken Follett            4.23         128715  \n",
       "1243       Terry Hayes            4.23          49740  \n",
       "4310         Anonymous            4.66          17863  \n",
       "5302      Radwa Ashour            4.32          13931  "
      ]
     },
     "execution_count": 40,
     "metadata": {},
     "output_type": "execute_result"
    }
   ],
   "source": [
    "get_recommendation_svdpp(12874, 5)"
   ]
  },
  {
   "cell_type": "markdown",
   "id": "290ada6e-fc3e-4a52-a386-6b63710ad922",
   "metadata": {},
   "source": [
    "Hyperparameter Tuning"
   ]
  },
  {
   "cell_type": "code",
   "execution_count": 41,
   "id": "8333f7f2-4806-4cdf-87e2-0c49953f7b74",
   "metadata": {},
   "outputs": [],
   "source": [
    "# prepare train data\n",
    "data.raw_ratings = train_ratings"
   ]
  },
  {
   "cell_type": "code",
   "execution_count": 44,
   "id": "97be3278-2767-4a9f-9137-cc3c3f64cdde",
   "metadata": {},
   "outputs": [
    {
     "name": "stdout",
     "output_type": "stream",
     "text": [
      "0.8384981481897436\n",
      "{'n_epochs': 30, 'lr_all': 0.005, 'reg_all': 0.04}\n",
      "CPU times: total: 2min 34s\n",
      "Wall time: 24min 29s\n"
     ]
    }
   ],
   "source": [
    "%%time\n",
    "grid = {'n_epochs': [20, 30], \n",
    "        'lr_all': [.005, .001], \n",
    "        'reg_all': [0.02, 0.04]} \n",
    "gs = GridSearchCV(SVD, grid, measures=['RMSE'], cv=5, n_jobs=2)\n",
    "gs.fit(data)\n",
    "print(gs.best_score['rmse'])\n",
    "print(gs.best_params['rmse'])"
   ]
  },
  {
   "cell_type": "code",
   "execution_count": 45,
   "id": "2f81a6e0-a6cc-4071-9a2c-62e993aa5a7e",
   "metadata": {},
   "outputs": [],
   "source": [
    "# select best algorithm\n",
    "svdtuned = gs.best_estimator['rmse']"
   ]
  },
  {
   "cell_type": "code",
   "execution_count": 46,
   "id": "27334a89-ea3c-4918-af6c-7b8910151ec5",
   "metadata": {},
   "outputs": [
    {
     "name": "stdout",
     "output_type": "stream",
     "text": [
      "Train RMSE:\n",
      "RMSE: 0.6577\n",
      "Test RMSE:\n",
      "RMSE: 0.8273\n",
      "CPU times: total: 3min 33s\n",
      "Wall time: 12min 37s\n"
     ]
    }
   ],
   "source": [
    "%%time\n",
    "\n",
    "#retrain whole train test (without fold)\n",
    "trainset = data.build_full_trainset()\n",
    "svdtuned.fit(trainset)\n",
    "\n",
    "# compute RMSE on trainset (without fold)\n",
    "svdtuned_train_pred = svdtuned.test(trainset.build_testset())\n",
    "print('Train RMSE:')\n",
    "train_rmse = accuracy.rmse(svdtuned_train_pred)\n",
    "\n",
    "# compute RMSE on testset\n",
    "testset = data.construct_testset(test_ratings)\n",
    "svdtuned_test_pred = svdtuned.test(testset)\n",
    "print('Test RMSE:')\n",
    "test_rmse = accuracy.rmse(svdtuned_test_pred)"
   ]
  },
  {
   "cell_type": "code",
   "execution_count": 47,
   "id": "c6f1eb72-160c-4941-872e-3aa3fec6409b",
   "metadata": {},
   "outputs": [
    {
     "name": "stdout",
     "output_type": "stream",
     "text": [
      "CPU times: total: 2min 31s\n",
      "Wall time: 3min 18s\n"
     ]
    },
    {
     "data": {
      "text/plain": [
       "<surprise.prediction_algorithms.matrix_factorization.SVD at 0x1ef85b077d0>"
      ]
     },
     "execution_count": 47,
     "metadata": {},
     "output_type": "execute_result"
    }
   ],
   "source": [
    "%%time\n",
    "\n",
    "data.raw_ratings = all_ratings\n",
    "svdtuned.fit(data.build_full_trainset())"
   ]
  },
  {
   "cell_type": "code",
   "execution_count": 48,
   "id": "60480cc0-fc76-45f9-9ec0-231cc2e020fc",
   "metadata": {},
   "outputs": [],
   "source": [
    "def get_recommendation(user_id, n=5):\n",
    "    '''Give n recommendation to user_id'''\n",
    "    \n",
    "    all_books, user_books =  book_read(user_id)\n",
    "    next_books = [book for book in all_books if book not in user_books]\n",
    "    \n",
    "    if n <= len(next_books):\n",
    "        ratings = []\n",
    "        for book in next_books:\n",
    "            est = svdtuned.predict(user_id, book).est\n",
    "            ratings.append((book, est))\n",
    "        ratings = sorted(ratings, key=lambda x: x[1], reverse=True)\n",
    "        book_ids = [id for id, rate in ratings[:n]]\n",
    "        return b[b.book_id.isin(book_ids)][['book_id', 'title', 'authors', 'average_rating', 'ratings_count']]\n",
    "    else:\n",
    "        print('Please reduce your recommendation request')\n",
    "        return"
   ]
  },
  {
   "cell_type": "code",
   "execution_count": 49,
   "id": "72a1f72d-b172-4efb-9264-3f45ee8eaaa4",
   "metadata": {},
   "outputs": [
    {
     "data": {
      "text/html": [
       "<div>\n",
       "<style scoped>\n",
       "    .dataframe tbody tr th:only-of-type {\n",
       "        vertical-align: middle;\n",
       "    }\n",
       "\n",
       "    .dataframe tbody tr th {\n",
       "        vertical-align: top;\n",
       "    }\n",
       "\n",
       "    .dataframe thead th {\n",
       "        text-align: right;\n",
       "    }\n",
       "</style>\n",
       "<table border=\"1\" class=\"dataframe\">\n",
       "  <thead>\n",
       "    <tr style=\"text-align: right;\">\n",
       "      <th></th>\n",
       "      <th>book_id</th>\n",
       "      <th>title</th>\n",
       "      <th>authors</th>\n",
       "      <th>average_rating</th>\n",
       "      <th>ratings_count</th>\n",
       "    </tr>\n",
       "  </thead>\n",
       "  <tbody>\n",
       "    <tr>\n",
       "      <th>241</th>\n",
       "      <td>267</td>\n",
       "      <td>The Nightingale</td>\n",
       "      <td>Kristin Hannah</td>\n",
       "      <td>4.54</td>\n",
       "      <td>253606</td>\n",
       "    </tr>\n",
       "    <tr>\n",
       "      <th>387</th>\n",
       "      <td>422</td>\n",
       "      <td>Harry Potter Boxset (Harry Potter, #1-7)</td>\n",
       "      <td>J.K. Rowling</td>\n",
       "      <td>4.74</td>\n",
       "      <td>190050</td>\n",
       "    </tr>\n",
       "    <tr>\n",
       "      <th>810</th>\n",
       "      <td>862</td>\n",
       "      <td>Words of Radiance (The Stormlight Archive, #2)</td>\n",
       "      <td>Brandon Sanderson</td>\n",
       "      <td>4.77</td>\n",
       "      <td>73572</td>\n",
       "    </tr>\n",
       "    <tr>\n",
       "      <th>7466</th>\n",
       "      <td>8946</td>\n",
       "      <td>The Divan</td>\n",
       "      <td>Hafez</td>\n",
       "      <td>4.63</td>\n",
       "      <td>2773</td>\n",
       "    </tr>\n",
       "    <tr>\n",
       "      <th>8909</th>\n",
       "      <td>6246</td>\n",
       "      <td>The Crippled God (The Malazan Book of the Fall...</td>\n",
       "      <td>Steven Erikson</td>\n",
       "      <td>4.44</td>\n",
       "      <td>14472</td>\n",
       "    </tr>\n",
       "  </tbody>\n",
       "</table>\n",
       "</div>"
      ],
      "text/plain": [
       "      book_id                                              title  \\\n",
       "241       267                                    The Nightingale   \n",
       "387       422           Harry Potter Boxset (Harry Potter, #1-7)   \n",
       "810       862     Words of Radiance (The Stormlight Archive, #2)   \n",
       "7466     8946                                          The Divan   \n",
       "8909     6246  The Crippled God (The Malazan Book of the Fall...   \n",
       "\n",
       "                authors  average_rating  ratings_count  \n",
       "241      Kristin Hannah            4.54         253606  \n",
       "387        J.K. Rowling            4.74         190050  \n",
       "810   Brandon Sanderson            4.77          73572  \n",
       "7466              Hafez            4.63           2773  \n",
       "8909     Steven Erikson            4.44          14472  "
      ]
     },
     "execution_count": 49,
     "metadata": {},
     "output_type": "execute_result"
    }
   ],
   "source": [
    "get_recommendation(12874, 5)"
   ]
  },
  {
   "cell_type": "code",
   "execution_count": 56,
   "id": "dd0ef698-6f77-4560-b193-eb2eadcce8e1",
   "metadata": {},
   "outputs": [],
   "source": [
    "# uncomment this code to dump the calculation result for future use\n",
    "dump('./dump_tuning', svdtuned_test_pred, svdtuned)"
   ]
  },
  {
   "cell_type": "code",
   "execution_count": 57,
   "id": "393773d0-d8ca-43c0-bf89-e425fc359db1",
   "metadata": {},
   "outputs": [],
   "source": [
    "# uncomment this code to load the dump file\n",
    "svd_test_pred, svd = load('./dump_svd')\n",
    "svdtuned_test_pred, svdtuned = load('./dump_tuning')"
   ]
  },
  {
   "cell_type": "code",
   "execution_count": 58,
   "id": "a0a66527-6a38-4270-92b5-e0aa566dddfc",
   "metadata": {},
   "outputs": [],
   "source": [
    "df_svd = pd.DataFrame(svd_test_pred, columns=['uid', 'iid', 'rui', 'est', 'details'])\n",
    "df_svdtuned = pd.DataFrame(svdtuned_test_pred, columns=['uid', 'iid', 'rui', 'est', 'details'])"
   ]
  },
  {
   "cell_type": "code",
   "execution_count": 60,
   "id": "cf1cb04b-0f54-4eb2-a8d9-9ab99bbd1c3b",
   "metadata": {},
   "outputs": [
    {
     "data": {
      "image/png": "[encoded data removed]",
      "text/plain": [
       "<Figure size 800x600 with 1 Axes>"
      ]
     },
     "metadata": {},
     "output_type": "display_data"
    }
   ],
   "source": [
    "# visualization\n",
    "fig, ax = plt.subplots(figsize=(8,6))\n",
    "sns.kdeplot(df_svd['est'], fill=False, color='#92BA92', label = 'SVD', ax=ax)\n",
    "sns.kdeplot(df_svdtuned['est'], fill=False, color='#DEBA9D', label = 'Tuned SVD', ax=ax)\n",
    "ax.legend()\n",
    "plt.xlabel('Rating prediction')\n",
    "plt.ylabel('Density')\n",
    "plt.title('Comparison of rating estimation in SVD and Tuned SVD')\n",
    "plt.show()"
   ]
  }
 ],
 "metadata": {
  "kernelspec": {
   "display_name": "Python 3 (ipykernel)",
   "language": "python",
   "name": "python3"
  },
  "language_info": {
   "codemirror_mode": {
    "name": "ipython",
    "version": 3
   },
   "file_extension": ".py",
   "mimetype": "text/x-python",
   "name": "python",
   "nbconvert_exporter": "python",
   "pygments_lexer": "ipython3",
   "version": "3.11.8"
  }
 },
 "nbformat": 4,
 "nbformat_minor": 5
}
